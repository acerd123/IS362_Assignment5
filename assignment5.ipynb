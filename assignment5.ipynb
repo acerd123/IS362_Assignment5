{
 "cells": [
  {
   "cell_type": "markdown",
   "metadata": {},
   "source": [
    "This notebook analyzes the northernmost and easternmost airports in the United States, then uses the data to find the windiest weather of New York area airports on Feb 12, 2013. The data used comes from the nycflights13 dataset, specifically the airports.csv and weather.csv files."
   ]
  },
  {
   "cell_type": "code",
   "execution_count": 16,
   "metadata": {},
   "outputs": [
    {
     "name": "stdout",
     "output_type": "stream",
     "text": [
      "\n",
      "Top 10 Northernmost Airports in the U.S.:\n",
      "      faa                                        name        lat\n",
      "417   EEN                     Dillant Hopkins Airport  72.270833\n",
      "230   BRW                  Wiley Post Will Rogers Mem  71.285446\n",
      "110   AIN                          Wainwright Airport  70.638056\n",
      "708   K03                               Wainwright As  70.613378\n",
      "152   ATK  Atqasuk Edward Burnell Sr Memorial Airport  70.467300\n",
      "1363  UUK                        Ugnu-Kuparuk Airport  70.330833\n",
      "982   NUI                             Nuiqsut Airport  70.210000\n",
      "1197  SCC                                   Deadhorse  70.194750\n",
      "232   BTI                          Barter Island Lrrs  70.133989\n",
      "1084  PIZ                              Point Lay Lrrs  69.732875\n",
      "\n",
      "Easternmost Airport in the U.S.:\n",
      "faa              SYA\n",
      "name    Eareckson As\n",
      "lat        52.712275\n",
      "lon        174.11362\n",
      "Name: 1290, dtype: object\n",
      "\n",
      "Top 10 Easternmost Airports in the U.S.:\n",
      "      faa                           name        lat         lon\n",
      "1290  SYA                   Eareckson As  52.712275  174.113620\n",
      "942   MYF               Montgomery Field  32.475900  117.759000\n",
      "396   DVT  Deer Valley Municipal Airport  33.411700  112.457000\n",
      "417   EEN        Dillant Hopkins Airport  72.270833   42.898333\n",
      "444   EPM     Eastport Municipal Airport  44.910111  -67.012694\n",
      "...   ...                            ...        ...         ...\n",
      "1251  SNP                 St Paul Island  57.167333 -170.220444\n",
      "1281  SVA               Savoonga Airport  63.686400 -170.493000\n",
      "522   GAM                Gambell Airport  63.766800 -171.733000\n",
      "112   AKB                   Atka Airport  52.220278 -174.206389\n",
      "95    ADK                   Adak Airport  51.878000 -176.646000\n",
      "\n",
      "[1405 rows x 4 columns]\n",
      "\n",
      "Top 10 Highest Latitude Easternmost Airports in the U.S.:\n",
      "      faa                                 name        lat         lon\n",
      "417   EEN              Dillant Hopkins Airport  72.270833   42.898333\n",
      "1290  SYA                         Eareckson As  52.712275  174.113620\n",
      "1398  WFK  Northern Aroostook Regional Airport  47.285556  -68.312778\n",
      "259   CAR                         Caribou Muni  46.871500  -68.017917\n",
      "1101  PQI  Northern Maine Rgnl At Presque Isle  46.688958  -68.044797\n",
      "624   HUL                         Houlton Intl  46.123083  -67.792056\n",
      "444   EPM           Eastport Municipal Airport  44.910111  -67.012694\n",
      "192   BHB          Hancock County - Bar Harbor  44.449769  -68.361565\n",
      "396   DVT        Deer Valley Municipal Airport  33.411700  112.457000\n",
      "942   MYF                     Montgomery Field  32.475900  117.759000\n",
      "\n",
      "Windiest New York Area Airport on February 12, 2013:\n",
      "origin            LGA\n",
      "wind_speed    23.0156\n",
      "Name: 18417, dtype: object\n"
     ]
    }
   ],
   "source": [
    "import pandas as pd\n",
    "\n",
    "# Load datasets from local files\n",
    "airports = pd.read_csv(\"airports.csv\")\n",
    "weather = pd.read_csv(\"weather.csv\")\n",
    "\n",
    "# Ensure only U.S. airports are considered (assuming 'country' column exists)\n",
    "if 'country' in airports.columns:\n",
    "    us_airports = airports[airports['country'] == 'US']  # Filter for U.S. airports\n",
    "else:\n",
    "    us_airports = airports.copy()  # If no country column, assume all airports are U.S.\n",
    "\n",
    "# Filter out small airports, considering only large ones (if a column exists for classification)\n",
    "if 'alt' in us_airports.columns:  # Some datasets include altitude; if not, assume all airports are relevant\n",
    "    major_airports = us_airports[us_airports['alt'] > 0]  # Example filter; adjust based on dataset structure\n",
    "else:\n",
    "    major_airports = us_airports.copy()\n",
    "\n",
    "# Top 10 Northernmost Airports in the U.S.\n",
    "top_northernmost_airports = major_airports[['faa', 'name', 'lat']].sort_values(by='lat', ascending=False).head(10)\n",
    "print(\"\\nTop 10 Northernmost Airports in the U.S.:\")\n",
    "print(top_northernmost_airports)\n",
    "\n",
    "# Find the easternmost airport and the top 10 easternmost airports\n",
    "easternmost_airport = major_airports.loc[major_airports['lon'].idxmax()]\n",
    "top_easternmost_airports = major_airports[['faa', 'name', 'lat', 'lon']].sort_values(by='lon', ascending=False)\n",
    "\n",
    "# Top 10 highest latitude among the easternmost airports\n",
    "top_easternmost_by_latitude = top_easternmost_airports.head(10).sort_values(by='lat', ascending=False)\n",
    "\n",
    "print(\"\\nEasternmost Airport in the U.S.:\")\n",
    "print(easternmost_airport[['faa', 'name', 'lat', 'lon']])\n",
    "\n",
    "print(\"\\nTop 10 Easternmost Airports in the U.S.:\")\n",
    "print(top_easternmost_airports[['faa', 'name', 'lat', 'lon']])\n",
    "\n",
    "print(\"\\nTop 10 Highest Latitude Easternmost Airports in the U.S.:\")\n",
    "print(top_easternmost_by_latitude[['faa', 'name', 'lat', 'lon']])\n",
    "\n",
    "# Ensure time_hour column is in datetime format for weather data\n",
    "weather['time_hour'] = pd.to_datetime(weather['time_hour'], errors='coerce')\n",
    "\n",
    "# Filter weather data for February 12, 2013, in New York area airports (Only JFK and LGA)\n",
    "ny_airports = ['JFK', 'LGA']\n",
    "weather_ny_feb12 = weather[(weather['origin'].isin(ny_airports)) & (weather['time_hour'].dt.date == pd.to_datetime('2013-02-12').date())]\n",
    "\n",
    "# Find the airport with the highest wind speed on this date\n",
    "if not weather_ny_feb12.empty:\n",
    "    windiest_airport = weather_ny_feb12.loc[weather_ny_feb12['wind_speed'].idxmax()]\n",
    "    print(\"\\nWindiest New York Area Airport on February 12, 2013:\")\n",
    "    print(windiest_airport[['origin', 'wind_speed']])\n",
    "else:\n",
    "    print(\"\\nNo weather data available for the specified date and airports.\")"
   ]
  },
  {
   "cell_type": "markdown",
   "metadata": {},
   "source": [
    "The northernmost airport is Dillant Hopkins Airport (FAA Code: EEN), located at latitude 72.27.\n",
    "\n",
    "The easternmost airport is Eareckson As (FAA Code: SYA), located at longitude 174.11.\n",
    "\n",
    "The windiest airport in the New York area was LaGuardia (LGA) with a wind speed of 23.02 m/s."
   ]
  },
  {
   "cell_type": "markdown",
   "metadata": {},
   "source": [
    "In conclusion, adding the top 10 northernmost airports in the United States provided a clearer picture of the actual northernmost airport, as previous research suggested otherwise. Additionally, existing research did not identify Eareckson Air Station as the easternmost airport in the U.S., likely because it is no longer an active civilian airport and is primarily used for refueling and emergency diversions. Initially, my research and dataset indicated that Newark Airport was the windiest airport on February 12, 2013. However, since Newark is not located in New York, I modified the code to ensure that only New York airports were considered."
   ]
  }
 ],
 "metadata": {
  "kernelspec": {
   "display_name": "base",
   "language": "python",
   "name": "python3"
  },
  "language_info": {
   "codemirror_mode": {
    "name": "ipython",
    "version": 3
   },
   "file_extension": ".py",
   "mimetype": "text/x-python",
   "name": "python",
   "nbconvert_exporter": "python",
   "pygments_lexer": "ipython3",
   "version": "3.12.4"
  }
 },
 "nbformat": 4,
 "nbformat_minor": 2
}
